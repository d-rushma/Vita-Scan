{
  "cells": [
    {
      "cell_type": "code",
      "execution_count": null,
      "metadata": {
        "id": "syXeGbAnqNXQ"
      },
      "outputs": [],
      "source": [
        "import pandas as pd\n",
        "import numpy as np"
      ]
    },
    {
      "cell_type": "code",
      "execution_count": null,
      "metadata": {
        "colab": {
          "base_uri": "https://localhost:8080/"
        },
        "id": "IG43kPlbqQpB",
        "outputId": "2949116d-df9d-468a-95db-5c944378dbe8"
      },
      "outputs": [
        {
          "output_type": "stream",
          "name": "stdout",
          "text": [
            "Looking in indexes: https://pypi.org/simple, https://us-python.pkg.dev/colab-wheels/public/simple/\n",
            "Requirement already satisfied: kaggle in /usr/local/lib/python3.10/dist-packages (1.5.13)\n",
            "Requirement already satisfied: six>=1.10 in /usr/local/lib/python3.10/dist-packages (from kaggle) (1.16.0)\n",
            "Requirement already satisfied: certifi in /usr/local/lib/python3.10/dist-packages (from kaggle) (2023.5.7)\n",
            "Requirement already satisfied: python-dateutil in /usr/local/lib/python3.10/dist-packages (from kaggle) (2.8.2)\n",
            "Requirement already satisfied: requests in /usr/local/lib/python3.10/dist-packages (from kaggle) (2.27.1)\n",
            "Requirement already satisfied: tqdm in /usr/local/lib/python3.10/dist-packages (from kaggle) (4.65.0)\n",
            "Requirement already satisfied: python-slugify in /usr/local/lib/python3.10/dist-packages (from kaggle) (8.0.1)\n",
            "Requirement already satisfied: urllib3 in /usr/local/lib/python3.10/dist-packages (from kaggle) (1.26.16)\n",
            "Requirement already satisfied: text-unidecode>=1.3 in /usr/local/lib/python3.10/dist-packages (from python-slugify->kaggle) (1.3)\n",
            "Requirement already satisfied: charset-normalizer~=2.0.0 in /usr/local/lib/python3.10/dist-packages (from requests->kaggle) (2.0.12)\n",
            "Requirement already satisfied: idna<4,>=2.5 in /usr/local/lib/python3.10/dist-packages (from requests->kaggle) (3.4)\n"
          ]
        }
      ],
      "source": [
        "!pip install kaggle"
      ]
    },
    {
      "cell_type": "code",
      "execution_count": null,
      "metadata": {
        "id": "oAYdghd_0TBX",
        "colab": {
          "base_uri": "https://localhost:8080/"
        },
        "outputId": "920111de-e2a3-4fd1-c2f4-2e67b0e49e9c"
      },
      "outputs": [
        {
          "output_type": "stream",
          "name": "stdout",
          "text": [
            "mkdir: cannot create directory ‘/root/.kaggle’: File exists\n"
          ]
        }
      ],
      "source": [
        "! mkdir ~/.kaggle"
      ]
    },
    {
      "cell_type": "code",
      "execution_count": null,
      "metadata": {
        "id": "5GAHRHQB0dYL"
      },
      "outputs": [],
      "source": [
        "cp kaggle.json ~/.kaggle/"
      ]
    },
    {
      "cell_type": "code",
      "execution_count": null,
      "metadata": {
        "id": "l16xFseh0pe1"
      },
      "outputs": [],
      "source": [
        "! chmod 600 ~/.kaggle/kaggle.json"
      ]
    },
    {
      "cell_type": "code",
      "execution_count": null,
      "metadata": {
        "colab": {
          "base_uri": "https://localhost:8080/"
        },
        "id": "91RErSs80rgY",
        "outputId": "ef56bda4-29a5-4713-b848-95297cf4e90b"
      },
      "outputs": [
        {
          "output_type": "stream",
          "name": "stdout",
          "text": [
            "Downloading brain-tumor-classification-mri.zip to /content\n",
            " 99% 86.0M/86.8M [00:05<00:00, 23.8MB/s]\n",
            "100% 86.8M/86.8M [00:05<00:00, 17.1MB/s]\n"
          ]
        }
      ],
      "source": [
        "!kaggle datasets download -d sartajbhuvaji/brain-tumor-classification-mri"
      ]
    },
    {
      "cell_type": "code",
      "execution_count": null,
      "metadata": {
        "id": "xEFb7sPF04BG",
        "colab": {
          "base_uri": "https://localhost:8080/"
        },
        "outputId": "a3aaf6e4-c1df-4663-c936-1463f2b026ef"
      },
      "outputs": [
        {
          "output_type": "stream",
          "name": "stdout",
          "text": [
            "Archive:  brain-tumor-classification-mri.zip\n",
            "replace Testing/glioma_tumor/image(1).jpg? [y]es, [n]o, [A]ll, [N]one, [r]ename: "
          ]
        }
      ],
      "source": [
        "! unzip brain-tumor-classification-mri.zip"
      ]
    },
    {
      "cell_type": "code",
      "execution_count": null,
      "metadata": {
        "id": "52h1WeGwOhY4"
      },
      "outputs": [],
      "source": [
        "import os\n",
        "\n",
        "for dirpath, dirnames, filenames in os.walk(\"Training\"):\n",
        "  print(f\"There are {len(dirnames)} directories and {len(filenames)} images in '{dirpath}'.\")"
      ]
    },
    {
      "cell_type": "code",
      "execution_count": null,
      "metadata": {
        "id": "3Bb6FeaA1Zu7"
      },
      "outputs": [],
      "source": [
        "import keras\n",
        "from keras.models import Sequential\n",
        "from keras.layers import Conv2D,Flatten,Dense,MaxPooling2D,Dropout\n",
        "from sklearn.metrics import accuracy_score"
      ]
    },
    {
      "cell_type": "code",
      "execution_count": null,
      "metadata": {
        "id": "z0VYuLhx1h56"
      },
      "outputs": [],
      "source": [
        "import io\n",
        "from PIL import Image\n",
        "import tqdm\n",
        "from sklearn.model_selection import train_test_split\n",
        "import cv2\n",
        "from sklearn.utils import shuffle\n",
        "import tensorflow as tf"
      ]
    },
    {
      "cell_type": "code",
      "execution_count": null,
      "metadata": {
        "id": "414rmlsy1tRy"
      },
      "outputs": [],
      "source": [
        "X_train = []\n",
        "Y_train = []\n",
        "image_size = 150\n",
        "labels = ['glioma_tumor','meningioma_tumor','no_tumor','pituitary_tumor']\n",
        "for i in labels:\n",
        "    folderPath = os.path.join('/content/Testing/',i)\n",
        "    for j in os.listdir(folderPath):\n",
        "        img = cv2.imread(os.path.join(folderPath,j))\n",
        "        img = cv2.resize(img,(image_size,image_size))\n",
        "        X_train.append(img)\n",
        "        Y_train.append(i)\n",
        "\n",
        "for i in labels:\n",
        "    folderPath = os.path.join('/content/Testing/',i)\n",
        "    for j in os.listdir(folderPath):\n",
        "        img = cv2.imread(os.path.join(folderPath,j))\n",
        "        img = cv2.resize(img,(image_size,image_size))\n",
        "        X_train.append(img)\n",
        "        Y_train.append(i)\n",
        "\n",
        "X_train = np.array(X_train)\n",
        "Y_train = np.array(Y_train)"
      ]
    },
    {
      "cell_type": "code",
      "execution_count": null,
      "metadata": {
        "colab": {
          "base_uri": "https://localhost:8080/"
        },
        "id": "lqAdZeaK1-BI",
        "outputId": "d05521c2-4f39-4a8d-f006-1470e6d8bb21"
      },
      "outputs": [
        {
          "output_type": "execute_result",
          "data": {
            "text/plain": [
              "(788, 150, 150, 3)"
            ]
          },
          "metadata": {},
          "execution_count": 27
        }
      ],
      "source": [
        "X_train.shape"
      ]
    },
    {
      "cell_type": "code",
      "execution_count": null,
      "metadata": {
        "id": "klNVb52p2MWD"
      },
      "outputs": [],
      "source": [
        "X_train,X_test,y_train,y_test = train_test_split(X_train,Y_train,test_size=0.1,random_state=43)"
      ]
    },
    {
      "cell_type": "code",
      "execution_count": null,
      "metadata": {
        "colab": {
          "base_uri": "https://localhost:8080/"
        },
        "id": "GGHyMCq9l_-d",
        "outputId": "69e3fca1-4676-47a1-b39b-c27b86b8953b"
      },
      "outputs": [
        {
          "output_type": "execute_result",
          "data": {
            "text/plain": [
              "array(['glioma_tumor', 'glioma_tumor', 'glioma_tumor', 'glioma_tumor',\n",
              "       'glioma_tumor', 'glioma_tumor', 'glioma_tumor', 'glioma_tumor',\n",
              "       'glioma_tumor', 'glioma_tumor', 'glioma_tumor', 'glioma_tumor',\n",
              "       'glioma_tumor', 'glioma_tumor', 'glioma_tumor', 'glioma_tumor',\n",
              "       'glioma_tumor', 'glioma_tumor', 'glioma_tumor', 'glioma_tumor',\n",
              "       'glioma_tumor', 'glioma_tumor', 'glioma_tumor', 'glioma_tumor',\n",
              "       'glioma_tumor', 'glioma_tumor', 'glioma_tumor', 'glioma_tumor',\n",
              "       'glioma_tumor', 'glioma_tumor', 'glioma_tumor', 'glioma_tumor',\n",
              "       'glioma_tumor', 'glioma_tumor', 'glioma_tumor', 'glioma_tumor',\n",
              "       'glioma_tumor', 'glioma_tumor', 'glioma_tumor', 'glioma_tumor',\n",
              "       'glioma_tumor', 'glioma_tumor', 'glioma_tumor', 'glioma_tumor',\n",
              "       'glioma_tumor', 'glioma_tumor', 'glioma_tumor', 'glioma_tumor',\n",
              "       'glioma_tumor', 'glioma_tumor', 'glioma_tumor', 'glioma_tumor',\n",
              "       'glioma_tumor', 'glioma_tumor', 'glioma_tumor', 'glioma_tumor',\n",
              "       'glioma_tumor', 'glioma_tumor', 'glioma_tumor', 'glioma_tumor',\n",
              "       'glioma_tumor', 'glioma_tumor', 'glioma_tumor', 'glioma_tumor',\n",
              "       'glioma_tumor', 'glioma_tumor', 'glioma_tumor', 'glioma_tumor',\n",
              "       'glioma_tumor', 'glioma_tumor', 'glioma_tumor', 'glioma_tumor',\n",
              "       'glioma_tumor', 'glioma_tumor', 'glioma_tumor', 'glioma_tumor',\n",
              "       'glioma_tumor', 'glioma_tumor', 'glioma_tumor', 'glioma_tumor',\n",
              "       'glioma_tumor', 'glioma_tumor', 'glioma_tumor', 'glioma_tumor',\n",
              "       'glioma_tumor', 'glioma_tumor', 'glioma_tumor', 'glioma_tumor',\n",
              "       'glioma_tumor', 'glioma_tumor', 'glioma_tumor', 'glioma_tumor',\n",
              "       'glioma_tumor', 'glioma_tumor', 'glioma_tumor', 'glioma_tumor',\n",
              "       'glioma_tumor', 'glioma_tumor', 'glioma_tumor', 'glioma_tumor',\n",
              "       'meningioma_tumor', 'meningioma_tumor', 'meningioma_tumor',\n",
              "       'meningioma_tumor', 'meningioma_tumor', 'meningioma_tumor',\n",
              "       'meningioma_tumor', 'meningioma_tumor', 'meningioma_tumor',\n",
              "       'meningioma_tumor', 'meningioma_tumor', 'meningioma_tumor',\n",
              "       'meningioma_tumor', 'meningioma_tumor', 'meningioma_tumor',\n",
              "       'meningioma_tumor', 'meningioma_tumor', 'meningioma_tumor',\n",
              "       'meningioma_tumor', 'meningioma_tumor', 'meningioma_tumor',\n",
              "       'meningioma_tumor', 'meningioma_tumor', 'meningioma_tumor',\n",
              "       'meningioma_tumor', 'meningioma_tumor', 'meningioma_tumor',\n",
              "       'meningioma_tumor', 'meningioma_tumor', 'meningioma_tumor',\n",
              "       'meningioma_tumor', 'meningioma_tumor', 'meningioma_tumor',\n",
              "       'meningioma_tumor', 'meningioma_tumor', 'meningioma_tumor',\n",
              "       'meningioma_tumor', 'meningioma_tumor', 'meningioma_tumor',\n",
              "       'meningioma_tumor', 'meningioma_tumor', 'meningioma_tumor',\n",
              "       'meningioma_tumor', 'meningioma_tumor', 'meningioma_tumor',\n",
              "       'meningioma_tumor', 'meningioma_tumor', 'meningioma_tumor',\n",
              "       'meningioma_tumor', 'meningioma_tumor', 'meningioma_tumor',\n",
              "       'meningioma_tumor', 'meningioma_tumor', 'meningioma_tumor',\n",
              "       'meningioma_tumor', 'meningioma_tumor', 'meningioma_tumor',\n",
              "       'meningioma_tumor', 'meningioma_tumor', 'meningioma_tumor',\n",
              "       'meningioma_tumor', 'meningioma_tumor', 'meningioma_tumor',\n",
              "       'meningioma_tumor', 'meningioma_tumor', 'meningioma_tumor',\n",
              "       'meningioma_tumor', 'meningioma_tumor', 'meningioma_tumor',\n",
              "       'meningioma_tumor', 'meningioma_tumor', 'meningioma_tumor',\n",
              "       'meningioma_tumor', 'meningioma_tumor', 'meningioma_tumor',\n",
              "       'meningioma_tumor', 'meningioma_tumor', 'meningioma_tumor',\n",
              "       'meningioma_tumor', 'meningioma_tumor', 'meningioma_tumor',\n",
              "       'meningioma_tumor', 'meningioma_tumor', 'meningioma_tumor',\n",
              "       'meningioma_tumor', 'meningioma_tumor', 'meningioma_tumor',\n",
              "       'meningioma_tumor', 'meningioma_tumor', 'meningioma_tumor',\n",
              "       'meningioma_tumor', 'meningioma_tumor', 'meningioma_tumor',\n",
              "       'meningioma_tumor', 'meningioma_tumor', 'meningioma_tumor',\n",
              "       'meningioma_tumor', 'meningioma_tumor', 'meningioma_tumor',\n",
              "       'meningioma_tumor', 'meningioma_tumor', 'meningioma_tumor',\n",
              "       'meningioma_tumor', 'meningioma_tumor', 'meningioma_tumor',\n",
              "       'meningioma_tumor', 'meningioma_tumor', 'meningioma_tumor',\n",
              "       'meningioma_tumor', 'meningioma_tumor', 'meningioma_tumor',\n",
              "       'meningioma_tumor', 'meningioma_tumor', 'meningioma_tumor',\n",
              "       'meningioma_tumor', 'no_tumor', 'no_tumor', 'no_tumor', 'no_tumor',\n",
              "       'no_tumor', 'no_tumor', 'no_tumor', 'no_tumor', 'no_tumor',\n",
              "       'no_tumor', 'no_tumor', 'no_tumor', 'no_tumor', 'no_tumor',\n",
              "       'no_tumor', 'no_tumor', 'no_tumor', 'no_tumor', 'no_tumor',\n",
              "       'no_tumor', 'no_tumor', 'no_tumor', 'no_tumor', 'no_tumor',\n",
              "       'no_tumor', 'no_tumor', 'no_tumor', 'no_tumor', 'no_tumor',\n",
              "       'no_tumor', 'no_tumor', 'no_tumor', 'no_tumor', 'no_tumor',\n",
              "       'no_tumor', 'no_tumor', 'no_tumor', 'no_tumor', 'no_tumor',\n",
              "       'no_tumor', 'no_tumor', 'no_tumor', 'no_tumor', 'no_tumor',\n",
              "       'no_tumor', 'no_tumor', 'no_tumor', 'no_tumor', 'no_tumor',\n",
              "       'no_tumor', 'no_tumor', 'no_tumor', 'no_tumor', 'no_tumor',\n",
              "       'no_tumor', 'no_tumor', 'no_tumor', 'no_tumor', 'no_tumor',\n",
              "       'no_tumor', 'no_tumor', 'no_tumor', 'no_tumor', 'no_tumor',\n",
              "       'no_tumor', 'no_tumor', 'no_tumor', 'no_tumor', 'no_tumor',\n",
              "       'no_tumor', 'no_tumor', 'no_tumor', 'no_tumor', 'no_tumor',\n",
              "       'no_tumor', 'no_tumor', 'no_tumor', 'no_tumor', 'no_tumor',\n",
              "       'no_tumor', 'no_tumor', 'no_tumor', 'no_tumor', 'no_tumor',\n",
              "       'no_tumor', 'no_tumor', 'no_tumor', 'no_tumor', 'no_tumor',\n",
              "       'no_tumor', 'no_tumor', 'no_tumor', 'no_tumor', 'no_tumor',\n",
              "       'no_tumor', 'no_tumor', 'no_tumor', 'no_tumor', 'no_tumor',\n",
              "       'no_tumor', 'no_tumor', 'no_tumor', 'no_tumor', 'no_tumor',\n",
              "       'no_tumor', 'pituitary_tumor', 'pituitary_tumor',\n",
              "       'pituitary_tumor', 'pituitary_tumor', 'pituitary_tumor',\n",
              "       'pituitary_tumor', 'pituitary_tumor', 'pituitary_tumor',\n",
              "       'pituitary_tumor', 'pituitary_tumor', 'pituitary_tumor',\n",
              "       'pituitary_tumor', 'pituitary_tumor', 'pituitary_tumor',\n",
              "       'pituitary_tumor', 'pituitary_tumor', 'pituitary_tumor',\n",
              "       'pituitary_tumor', 'pituitary_tumor', 'pituitary_tumor',\n",
              "       'pituitary_tumor', 'pituitary_tumor', 'pituitary_tumor',\n",
              "       'pituitary_tumor', 'pituitary_tumor', 'pituitary_tumor',\n",
              "       'pituitary_tumor', 'pituitary_tumor', 'pituitary_tumor',\n",
              "       'pituitary_tumor', 'pituitary_tumor', 'pituitary_tumor',\n",
              "       'pituitary_tumor', 'pituitary_tumor', 'pituitary_tumor',\n",
              "       'pituitary_tumor', 'pituitary_tumor', 'pituitary_tumor',\n",
              "       'pituitary_tumor', 'pituitary_tumor', 'pituitary_tumor',\n",
              "       'pituitary_tumor', 'pituitary_tumor', 'pituitary_tumor',\n",
              "       'pituitary_tumor', 'pituitary_tumor', 'pituitary_tumor',\n",
              "       'pituitary_tumor', 'pituitary_tumor', 'pituitary_tumor',\n",
              "       'pituitary_tumor', 'pituitary_tumor', 'pituitary_tumor',\n",
              "       'pituitary_tumor', 'pituitary_tumor', 'pituitary_tumor',\n",
              "       'pituitary_tumor', 'pituitary_tumor', 'pituitary_tumor',\n",
              "       'pituitary_tumor', 'pituitary_tumor', 'pituitary_tumor',\n",
              "       'pituitary_tumor', 'pituitary_tumor', 'pituitary_tumor',\n",
              "       'pituitary_tumor', 'pituitary_tumor', 'pituitary_tumor',\n",
              "       'pituitary_tumor', 'pituitary_tumor', 'pituitary_tumor',\n",
              "       'pituitary_tumor', 'pituitary_tumor', 'pituitary_tumor',\n",
              "       'glioma_tumor', 'glioma_tumor', 'glioma_tumor', 'glioma_tumor',\n",
              "       'glioma_tumor', 'glioma_tumor', 'glioma_tumor', 'glioma_tumor',\n",
              "       'glioma_tumor', 'glioma_tumor', 'glioma_tumor', 'glioma_tumor',\n",
              "       'glioma_tumor', 'glioma_tumor', 'glioma_tumor', 'glioma_tumor',\n",
              "       'glioma_tumor', 'glioma_tumor', 'glioma_tumor', 'glioma_tumor',\n",
              "       'glioma_tumor', 'glioma_tumor', 'glioma_tumor', 'glioma_tumor',\n",
              "       'glioma_tumor', 'glioma_tumor', 'glioma_tumor', 'glioma_tumor',\n",
              "       'glioma_tumor', 'glioma_tumor', 'glioma_tumor', 'glioma_tumor',\n",
              "       'glioma_tumor', 'glioma_tumor', 'glioma_tumor', 'glioma_tumor',\n",
              "       'glioma_tumor', 'glioma_tumor', 'glioma_tumor', 'glioma_tumor',\n",
              "       'glioma_tumor', 'glioma_tumor', 'glioma_tumor', 'glioma_tumor',\n",
              "       'glioma_tumor', 'glioma_tumor', 'glioma_tumor', 'glioma_tumor',\n",
              "       'glioma_tumor', 'glioma_tumor', 'glioma_tumor', 'glioma_tumor',\n",
              "       'glioma_tumor', 'glioma_tumor', 'glioma_tumor', 'glioma_tumor',\n",
              "       'glioma_tumor', 'glioma_tumor', 'glioma_tumor', 'glioma_tumor',\n",
              "       'glioma_tumor', 'glioma_tumor', 'glioma_tumor', 'glioma_tumor',\n",
              "       'glioma_tumor', 'glioma_tumor', 'glioma_tumor', 'glioma_tumor',\n",
              "       'glioma_tumor', 'glioma_tumor', 'glioma_tumor', 'glioma_tumor',\n",
              "       'glioma_tumor', 'glioma_tumor', 'glioma_tumor', 'glioma_tumor',\n",
              "       'glioma_tumor', 'glioma_tumor', 'glioma_tumor', 'glioma_tumor',\n",
              "       'glioma_tumor', 'glioma_tumor', 'glioma_tumor', 'glioma_tumor',\n",
              "       'glioma_tumor', 'glioma_tumor', 'glioma_tumor', 'glioma_tumor',\n",
              "       'glioma_tumor', 'glioma_tumor', 'glioma_tumor', 'glioma_tumor',\n",
              "       'glioma_tumor', 'glioma_tumor', 'glioma_tumor', 'glioma_tumor',\n",
              "       'glioma_tumor', 'glioma_tumor', 'glioma_tumor', 'glioma_tumor',\n",
              "       'meningioma_tumor', 'meningioma_tumor', 'meningioma_tumor',\n",
              "       'meningioma_tumor', 'meningioma_tumor', 'meningioma_tumor',\n",
              "       'meningioma_tumor', 'meningioma_tumor', 'meningioma_tumor',\n",
              "       'meningioma_tumor', 'meningioma_tumor', 'meningioma_tumor',\n",
              "       'meningioma_tumor', 'meningioma_tumor', 'meningioma_tumor',\n",
              "       'meningioma_tumor', 'meningioma_tumor', 'meningioma_tumor',\n",
              "       'meningioma_tumor', 'meningioma_tumor', 'meningioma_tumor',\n",
              "       'meningioma_tumor', 'meningioma_tumor', 'meningioma_tumor',\n",
              "       'meningioma_tumor', 'meningioma_tumor', 'meningioma_tumor',\n",
              "       'meningioma_tumor', 'meningioma_tumor', 'meningioma_tumor',\n",
              "       'meningioma_tumor', 'meningioma_tumor', 'meningioma_tumor',\n",
              "       'meningioma_tumor', 'meningioma_tumor', 'meningioma_tumor',\n",
              "       'meningioma_tumor', 'meningioma_tumor', 'meningioma_tumor',\n",
              "       'meningioma_tumor', 'meningioma_tumor', 'meningioma_tumor',\n",
              "       'meningioma_tumor', 'meningioma_tumor', 'meningioma_tumor',\n",
              "       'meningioma_tumor', 'meningioma_tumor', 'meningioma_tumor',\n",
              "       'meningioma_tumor', 'meningioma_tumor', 'meningioma_tumor',\n",
              "       'meningioma_tumor', 'meningioma_tumor', 'meningioma_tumor',\n",
              "       'meningioma_tumor', 'meningioma_tumor', 'meningioma_tumor',\n",
              "       'meningioma_tumor', 'meningioma_tumor', 'meningioma_tumor',\n",
              "       'meningioma_tumor', 'meningioma_tumor', 'meningioma_tumor',\n",
              "       'meningioma_tumor', 'meningioma_tumor', 'meningioma_tumor',\n",
              "       'meningioma_tumor', 'meningioma_tumor', 'meningioma_tumor',\n",
              "       'meningioma_tumor', 'meningioma_tumor', 'meningioma_tumor',\n",
              "       'meningioma_tumor', 'meningioma_tumor', 'meningioma_tumor',\n",
              "       'meningioma_tumor', 'meningioma_tumor', 'meningioma_tumor',\n",
              "       'meningioma_tumor', 'meningioma_tumor', 'meningioma_tumor',\n",
              "       'meningioma_tumor', 'meningioma_tumor', 'meningioma_tumor',\n",
              "       'meningioma_tumor', 'meningioma_tumor', 'meningioma_tumor',\n",
              "       'meningioma_tumor', 'meningioma_tumor', 'meningioma_tumor',\n",
              "       'meningioma_tumor', 'meningioma_tumor', 'meningioma_tumor',\n",
              "       'meningioma_tumor', 'meningioma_tumor', 'meningioma_tumor',\n",
              "       'meningioma_tumor', 'meningioma_tumor', 'meningioma_tumor',\n",
              "       'meningioma_tumor', 'meningioma_tumor', 'meningioma_tumor',\n",
              "       'meningioma_tumor', 'meningioma_tumor', 'meningioma_tumor',\n",
              "       'meningioma_tumor', 'meningioma_tumor', 'meningioma_tumor',\n",
              "       'meningioma_tumor', 'meningioma_tumor', 'meningioma_tumor',\n",
              "       'meningioma_tumor', 'meningioma_tumor', 'meningioma_tumor',\n",
              "       'meningioma_tumor', 'no_tumor', 'no_tumor', 'no_tumor', 'no_tumor',\n",
              "       'no_tumor', 'no_tumor', 'no_tumor', 'no_tumor', 'no_tumor',\n",
              "       'no_tumor', 'no_tumor', 'no_tumor', 'no_tumor', 'no_tumor',\n",
              "       'no_tumor', 'no_tumor', 'no_tumor', 'no_tumor', 'no_tumor',\n",
              "       'no_tumor', 'no_tumor', 'no_tumor', 'no_tumor', 'no_tumor',\n",
              "       'no_tumor', 'no_tumor', 'no_tumor', 'no_tumor', 'no_tumor',\n",
              "       'no_tumor', 'no_tumor', 'no_tumor', 'no_tumor', 'no_tumor',\n",
              "       'no_tumor', 'no_tumor', 'no_tumor', 'no_tumor', 'no_tumor',\n",
              "       'no_tumor', 'no_tumor', 'no_tumor', 'no_tumor', 'no_tumor',\n",
              "       'no_tumor', 'no_tumor', 'no_tumor', 'no_tumor', 'no_tumor',\n",
              "       'no_tumor', 'no_tumor', 'no_tumor', 'no_tumor', 'no_tumor',\n",
              "       'no_tumor', 'no_tumor', 'no_tumor', 'no_tumor', 'no_tumor',\n",
              "       'no_tumor', 'no_tumor', 'no_tumor', 'no_tumor', 'no_tumor',\n",
              "       'no_tumor', 'no_tumor', 'no_tumor', 'no_tumor', 'no_tumor',\n",
              "       'no_tumor', 'no_tumor', 'no_tumor', 'no_tumor', 'no_tumor',\n",
              "       'no_tumor', 'no_tumor', 'no_tumor', 'no_tumor', 'no_tumor',\n",
              "       'no_tumor', 'no_tumor', 'no_tumor', 'no_tumor', 'no_tumor',\n",
              "       'no_tumor', 'no_tumor', 'no_tumor', 'no_tumor', 'no_tumor',\n",
              "       'no_tumor', 'no_tumor', 'no_tumor', 'no_tumor', 'no_tumor',\n",
              "       'no_tumor', 'no_tumor', 'no_tumor', 'no_tumor', 'no_tumor',\n",
              "       'no_tumor', 'no_tumor', 'no_tumor', 'no_tumor', 'no_tumor',\n",
              "       'no_tumor', 'pituitary_tumor', 'pituitary_tumor',\n",
              "       'pituitary_tumor', 'pituitary_tumor', 'pituitary_tumor',\n",
              "       'pituitary_tumor', 'pituitary_tumor', 'pituitary_tumor',\n",
              "       'pituitary_tumor', 'pituitary_tumor', 'pituitary_tumor',\n",
              "       'pituitary_tumor', 'pituitary_tumor', 'pituitary_tumor',\n",
              "       'pituitary_tumor', 'pituitary_tumor', 'pituitary_tumor',\n",
              "       'pituitary_tumor', 'pituitary_tumor', 'pituitary_tumor',\n",
              "       'pituitary_tumor', 'pituitary_tumor', 'pituitary_tumor',\n",
              "       'pituitary_tumor', 'pituitary_tumor', 'pituitary_tumor',\n",
              "       'pituitary_tumor', 'pituitary_tumor', 'pituitary_tumor',\n",
              "       'pituitary_tumor', 'pituitary_tumor', 'pituitary_tumor',\n",
              "       'pituitary_tumor', 'pituitary_tumor', 'pituitary_tumor',\n",
              "       'pituitary_tumor', 'pituitary_tumor', 'pituitary_tumor',\n",
              "       'pituitary_tumor', 'pituitary_tumor', 'pituitary_tumor',\n",
              "       'pituitary_tumor', 'pituitary_tumor', 'pituitary_tumor',\n",
              "       'pituitary_tumor', 'pituitary_tumor', 'pituitary_tumor',\n",
              "       'pituitary_tumor', 'pituitary_tumor', 'pituitary_tumor',\n",
              "       'pituitary_tumor', 'pituitary_tumor', 'pituitary_tumor',\n",
              "       'pituitary_tumor', 'pituitary_tumor', 'pituitary_tumor',\n",
              "       'pituitary_tumor', 'pituitary_tumor', 'pituitary_tumor',\n",
              "       'pituitary_tumor', 'pituitary_tumor', 'pituitary_tumor',\n",
              "       'pituitary_tumor', 'pituitary_tumor', 'pituitary_tumor',\n",
              "       'pituitary_tumor', 'pituitary_tumor', 'pituitary_tumor',\n",
              "       'pituitary_tumor', 'pituitary_tumor', 'pituitary_tumor',\n",
              "       'pituitary_tumor', 'pituitary_tumor', 'pituitary_tumor'],\n",
              "      dtype='<U16')"
            ]
          },
          "metadata": {},
          "execution_count": 29
        }
      ],
      "source": [
        "Y_train"
      ]
    },
    {
      "cell_type": "code",
      "execution_count": null,
      "metadata": {
        "id": "GGE-BP3f2XTo"
      },
      "outputs": [],
      "source": [
        "y_train_new = []\n",
        "for i in y_train:\n",
        "    y_train_new.append(labels.index(i))\n",
        "y_train=y_train_new\n",
        "y_train = tf.keras.utils.to_categorical(y_train)\n",
        "\n",
        "y_test_new = []\n",
        "for i in y_test:\n",
        "    y_test_new.append(labels.index(i))\n",
        "y_test=y_test_new\n",
        "y_test = tf.keras.utils.to_categorical(y_test)"
      ]
    },
    {
      "cell_type": "code",
      "execution_count": null,
      "metadata": {
        "id": "7-eAS9Ts2lww"
      },
      "outputs": [],
      "source": [
        "model = Sequential()\n",
        "model.add(Conv2D(32,(3,3),activation = 'relu',input_shape=(150,150,3)))\n",
        "model.add(Conv2D(64,(3,3),activation='relu'))\n",
        "model.add(MaxPooling2D(2,2))\n",
        "model.add(Dropout(0.3))\n",
        "model.add(Conv2D(64,(3,3),activation='relu'))\n",
        "model.add(Conv2D(64,(3,3),activation='relu'))\n",
        "model.add(Dropout(0.3))\n",
        "model.add(MaxPooling2D(2,2))\n",
        "model.add(Dropout(0.3))\n",
        "model.add(Conv2D(128,(3,3),activation='relu'))\n",
        "model.add(Conv2D(128,(3,3),activation='relu'))\n",
        "model.add(Conv2D(128,(3,3),activation='relu'))\n",
        "model.add(MaxPooling2D(2,2))\n",
        "model.add(Dropout(0.3))\n",
        "model.add(Conv2D(128,(3,3),activation='relu'))\n",
        "model.add(Conv2D(256,(3,3),activation='relu'))\n",
        "model.add(MaxPooling2D(2,2))\n",
        "model.add(Dropout(0.3))\n",
        "model.add(Flatten())\n",
        "model.add(Dense(512,activation = 'relu'))\n",
        "model.add(Dense(512,activation = 'relu'))\n",
        "model.add(Dropout(0.3))\n",
        "model.add(Dense(4,activation='softmax'))"
      ]
    },
    {
      "cell_type": "code",
      "execution_count": null,
      "metadata": {
        "colab": {
          "base_uri": "https://localhost:8080/"
        },
        "id": "7nf-hKKR2q_m",
        "outputId": "3a854199-c8b6-41f2-b71f-02aa28632162"
      },
      "outputs": [
        {
          "output_type": "stream",
          "name": "stdout",
          "text": [
            "Model: \"sequential_1\"\n",
            "_________________________________________________________________\n",
            " Layer (type)                Output Shape              Param #   \n",
            "=================================================================\n",
            " conv2d_1 (Conv2D)           (None, 148, 148, 32)      896       \n",
            "                                                                 \n",
            " conv2d_2 (Conv2D)           (None, 146, 146, 64)      18496     \n",
            "                                                                 \n",
            " max_pooling2d (MaxPooling2D  (None, 73, 73, 64)       0         \n",
            " )                                                               \n",
            "                                                                 \n",
            " dropout (Dropout)           (None, 73, 73, 64)        0         \n",
            "                                                                 \n",
            " max_pooling2d_1 (MaxPooling  (None, 36, 36, 64)       0         \n",
            " 2D)                                                             \n",
            "                                                                 \n",
            " dropout_1 (Dropout)         (None, 36, 36, 64)        0         \n",
            "                                                                 \n",
            " conv2d_3 (Conv2D)           (None, 34, 34, 128)       73856     \n",
            "                                                                 \n",
            " conv2d_4 (Conv2D)           (None, 32, 32, 128)       147584    \n",
            "                                                                 \n",
            " conv2d_5 (Conv2D)           (None, 30, 30, 128)       147584    \n",
            "                                                                 \n",
            " max_pooling2d_2 (MaxPooling  (None, 15, 15, 128)      0         \n",
            " 2D)                                                             \n",
            "                                                                 \n",
            " dropout_2 (Dropout)         (None, 15, 15, 128)       0         \n",
            "                                                                 \n",
            " flatten (Flatten)           (None, 28800)             0         \n",
            "                                                                 \n",
            " dense (Dense)               (None, 512)               14746112  \n",
            "                                                                 \n",
            " dense_1 (Dense)             (None, 512)               262656    \n",
            "                                                                 \n",
            " dropout_3 (Dropout)         (None, 512)               0         \n",
            "                                                                 \n",
            " dense_2 (Dense)             (None, 4)                 2052      \n",
            "                                                                 \n",
            "=================================================================\n",
            "Total params: 15,399,236\n",
            "Trainable params: 15,399,236\n",
            "Non-trainable params: 0\n",
            "_________________________________________________________________\n"
          ]
        }
      ],
      "source": [
        "model.summary()"
      ]
    },
    {
      "cell_type": "code",
      "execution_count": null,
      "metadata": {
        "id": "3WkVrdvw2zzL"
      },
      "outputs": [],
      "source": [
        "model.compile(loss='categorical_crossentropy',optimizer='Adam',metrics=['accuracy'])"
      ]
    },
    {
      "cell_type": "code",
      "execution_count": null,
      "metadata": {
        "colab": {
          "base_uri": "https://localhost:8080/"
        },
        "id": "Fi-9XpFZ252q",
        "outputId": "f2d8561b-75c6-4b36-b7fc-b2d94ca1b3db"
      },
      "outputs": [
        {
          "output_type": "stream",
          "name": "stdout",
          "text": [
            "Epoch 1/20\n",
            "20/20 [==============================] - 18s 182ms/step - loss: 28.7794 - accuracy: 0.3527 - val_loss: 1.3166 - val_accuracy: 0.3380\n",
            "Epoch 2/20\n",
            "20/20 [==============================] - 1s 74ms/step - loss: 1.2735 - accuracy: 0.4467 - val_loss: 1.2932 - val_accuracy: 0.3380\n",
            "Epoch 3/20\n",
            "20/20 [==============================] - 1s 74ms/step - loss: 1.1818 - accuracy: 0.4953 - val_loss: 1.1775 - val_accuracy: 0.5211\n",
            "Epoch 4/20\n",
            "20/20 [==============================] - 1s 74ms/step - loss: 1.0935 - accuracy: 0.5361 - val_loss: 1.1074 - val_accuracy: 0.5915\n",
            "Epoch 5/20\n",
            "20/20 [==============================] - 1s 74ms/step - loss: 1.0303 - accuracy: 0.5815 - val_loss: 1.1424 - val_accuracy: 0.4930\n",
            "Epoch 6/20\n",
            "20/20 [==============================] - 1s 75ms/step - loss: 0.9384 - accuracy: 0.5987 - val_loss: 1.0072 - val_accuracy: 0.5915\n",
            "Epoch 7/20\n",
            "20/20 [==============================] - 2s 78ms/step - loss: 0.8118 - accuracy: 0.6661 - val_loss: 0.9565 - val_accuracy: 0.5915\n",
            "Epoch 8/20\n",
            "20/20 [==============================] - 2s 76ms/step - loss: 0.6600 - accuracy: 0.7194 - val_loss: 0.7332 - val_accuracy: 0.7465\n",
            "Epoch 9/20\n",
            "20/20 [==============================] - 1s 73ms/step - loss: 0.5394 - accuracy: 0.7868 - val_loss: 0.6026 - val_accuracy: 0.7887\n",
            "Epoch 10/20\n",
            "20/20 [==============================] - 1s 74ms/step - loss: 0.3845 - accuracy: 0.8495 - val_loss: 0.6128 - val_accuracy: 0.8028\n",
            "Epoch 11/20\n",
            "20/20 [==============================] - 1s 74ms/step - loss: 0.3842 - accuracy: 0.8480 - val_loss: 0.4792 - val_accuracy: 0.8028\n",
            "Epoch 12/20\n",
            "20/20 [==============================] - 1s 74ms/step - loss: 0.3264 - accuracy: 0.8840 - val_loss: 0.5258 - val_accuracy: 0.8592\n",
            "Epoch 13/20\n",
            "20/20 [==============================] - 1s 73ms/step - loss: 0.1898 - accuracy: 0.9201 - val_loss: 0.5754 - val_accuracy: 0.8451\n",
            "Epoch 14/20\n",
            "20/20 [==============================] - 2s 76ms/step - loss: 0.2007 - accuracy: 0.9467 - val_loss: 0.5403 - val_accuracy: 0.8873\n",
            "Epoch 15/20\n",
            "20/20 [==============================] - 2s 77ms/step - loss: 0.1905 - accuracy: 0.9389 - val_loss: 0.4856 - val_accuracy: 0.9014\n",
            "Epoch 16/20\n",
            "20/20 [==============================] - 1s 74ms/step - loss: 0.1615 - accuracy: 0.9404 - val_loss: 0.4190 - val_accuracy: 0.8873\n",
            "Epoch 17/20\n",
            "20/20 [==============================] - 1s 74ms/step - loss: 0.1163 - accuracy: 0.9671 - val_loss: 0.4846 - val_accuracy: 0.9014\n",
            "Epoch 18/20\n",
            "20/20 [==============================] - 1s 74ms/step - loss: 0.0898 - accuracy: 0.9655 - val_loss: 0.3150 - val_accuracy: 0.9296\n",
            "Epoch 19/20\n",
            "20/20 [==============================] - 1s 74ms/step - loss: 0.1013 - accuracy: 0.9702 - val_loss: 0.4363 - val_accuracy: 0.9014\n",
            "Epoch 20/20\n",
            "20/20 [==============================] - 1s 74ms/step - loss: 0.0664 - accuracy: 0.9781 - val_loss: 0.5476 - val_accuracy: 0.9014\n"
          ]
        }
      ],
      "source": [
        "history = model.fit(X_train,y_train,epochs=20,validation_split=0.1)"
      ]
    },
    {
      "cell_type": "code",
      "execution_count": null,
      "metadata": {
        "id": "ASOXAg9t4MqH"
      },
      "outputs": [],
      "source": [
        "import matplotlib.pyplot as plt\n",
        "import seaborn as sns"
      ]
    },
    {
      "cell_type": "code",
      "execution_count": null,
      "metadata": {
        "colab": {
          "base_uri": "https://localhost:8080/",
          "height": 541
        },
        "id": "9_OusQ6t27jg",
        "outputId": "496648fe-06e7-4375-8b66-216a3f19e035"
      },
      "outputs": [
        {
          "output_type": "display_data",
          "data": {
            "text/plain": [
              "<Figure size 1400x700 with 1 Axes>"
            ],
            "image/png": "[encoded data removed]"
          },
          "metadata": {}
        }
      ],
      "source": [
        "acc = history.history['accuracy']\n",
        "val_acc = history.history['val_accuracy']\n",
        "epochs = range(len(acc))\n",
        "fig = plt.figure(figsize=(14,7))\n",
        "plt.plot(epochs,acc,'r',label=\"Training Accuracy\")\n",
        "plt.plot(epochs,val_acc,'b',label=\"Validation Accuracy\")\n",
        "plt.legend(loc='upper left')\n",
        "plt.show()"
      ]
    },
    {
      "cell_type": "code",
      "execution_count": null,
      "metadata": {
        "colab": {
          "base_uri": "https://localhost:8080/"
        },
        "id": "9YbbC2sU3ycx",
        "outputId": "52a92587-33ea-4eb9-a116-143a2803ba70"
      },
      "outputs": [
        {
          "output_type": "execute_result",
          "data": {
            "text/plain": [
              "(150, 150, 3)"
            ]
          },
          "metadata": {},
          "execution_count": 38
        }
      ],
      "source": [
        "img = cv2.imread('/content/Testing/glioma_tumor/image(100).jpg')\n",
        "img = cv2.resize(img,(150,150))\n",
        "img_array = np.array(img)\n",
        "img_array.shape"
      ]
    },
    {
      "cell_type": "code",
      "execution_count": null,
      "metadata": {
        "colab": {
          "base_uri": "https://localhost:8080/"
        },
        "id": "SgRiHXyK31Mn",
        "outputId": "b3c44ac6-da79-429d-dde1-e85c21c9456c"
      },
      "outputs": [
        {
          "output_type": "execute_result",
          "data": {
            "text/plain": [
              "(1, 150, 150, 3)"
            ]
          },
          "metadata": {},
          "execution_count": 39
        }
      ],
      "source": [
        "img_array = img_array.reshape(1,150,150,3)\n",
        "img_array.shape"
      ]
    },
    {
      "cell_type": "code",
      "execution_count": null,
      "metadata": {
        "colab": {
          "base_uri": "https://localhost:8080/"
        },
        "id": "g970ni5m35aT",
        "outputId": "45e6dcec-d3dc-4d8b-c7dc-47c9f5689c21"
      },
      "outputs": [
        {
          "output_type": "stream",
          "name": "stdout",
          "text": [
            "1/1 [==============================] - 0s 345ms/step\n",
            "glioma_tumor\n"
          ]
        }
      ],
      "source": [
        "a=model.predict(img_array)\n",
        "indices = a.argmax()\n",
        "indices\n",
        "print(labels[indices])"
      ]
    },
    {
      "cell_type": "code",
      "execution_count": null,
      "metadata": {
        "id": "FANH9zGa4NtE"
      },
      "outputs": [],
      "source": [
        "Y_pred=model.predict(X_test)\n",
        "Y_pred"
      ]
    },
    {
      "cell_type": "code",
      "execution_count": null,
      "metadata": {
        "colab": {
          "base_uri": "https://localhost:8080/"
        },
        "id": "iLXM09cE4Vlk",
        "outputId": "e036fb98-4dc1-4861-9dd5-3fe9e31d82ad"
      },
      "outputs": [
        {
          "output_type": "stream",
          "name": "stdout",
          "text": [
            "3/3 [==============================] - 0s 14ms/step - loss: 0.2020 - accuracy: 0.9367\n"
          ]
        }
      ],
      "source": [
        "loss, acc = model.evaluate(x=X_test, y=y_test)"
      ]
    },
    {
      "cell_type": "code",
      "source": [
        "import warnings\n",
        "import pickle\n",
        "warnings.filterwarnings(\"ignore\")"
      ],
      "metadata": {
        "id": "vztH-CGUrw0_"
      },
      "execution_count": null,
      "outputs": []
    },
    {
      "cell_type": "code",
      "source": [
        "pickle.dump(model,open('model.pkl','wb'))\n",
        "model=pickle.load(open('model.pkl','rb'))"
      ],
      "metadata": {
        "id": "FYd_hYderF1v"
      },
      "execution_count": null,
      "outputs": []
    },
    {
      "cell_type": "code",
      "source": [
        "model.save('path_to_your_model.h5')"
      ],
      "metadata": {
        "id": "nlnTfZd5rzCT"
      },
      "execution_count": null,
      "outputs": []
    },
    {
      "cell_type": "code",
      "source": [],
      "metadata": {
        "id": "VD3nxzhd66FF"
      },
      "execution_count": null,
      "outputs": []
    }
  ],
  "metadata": {
    "colab": {
      "provenance": [],
      "gpuType": "T4"
    },
    "kernelspec": {
      "display_name": "Python 3",
      "name": "python3"
    },
    "language_info": {
      "name": "python"
    },
    "accelerator": "GPU"
  },
  "nbformat": 4,
  "nbformat_minor": 0
}